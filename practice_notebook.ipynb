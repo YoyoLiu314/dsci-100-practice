{
 "cells": [
  {
   "cell_type": "code",
   "execution_count": null,
   "id": "d3c29831-4f48-49e4-9d32-7fc03449cd03",
   "metadata": {},
   "outputs": [],
   "source": [
    "library(tidyverse)\n",
    "library(janitor)\n",
    "library(repr)\n"
   ]
  }
 ],
 "metadata": {
  "kernelspec": {
   "display_name": "Python 3 (ipykernel)",
   "language": "python",
   "name": "python3"
  },
  "language_info": {
   "codemirror_mode": {
    "name": "ipython",
    "version": 3
   },
   "file_extension": ".py",
   "mimetype": "text/x-python",
   "name": "python",
   "nbconvert_exporter": "python",
   "pygments_lexer": "ipython3",
   "version": "3.11.9"
  }
 },
 "nbformat": 4,
 "nbformat_minor": 5
}
